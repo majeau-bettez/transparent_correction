{
 "cells": [
  {
   "cell_type": "markdown",
   "id": "eabe23d2",
   "metadata": {},
   "source": [
    "# Démonstration de l'usage de `transparent_correction`"
   ]
  },
  {
   "cell_type": "code",
   "execution_count": 1,
   "id": "4ab82e42",
   "metadata": {},
   "outputs": [],
   "source": [
    "import sys\n",
    "sys.path.append('..')\n",
    "import transparent_correction as tc\n",
    "\n",
    "from IPython.core.display import HTML\n"
   ]
  },
  {
   "cell_type": "markdown",
   "id": "1f8abadf",
   "metadata": {},
   "source": [
    "## Étape manuelle 1: lire le gabarit"
   ]
  },
  {
   "cell_type": "code",
   "execution_count": 2,
   "id": "cd4e5b5e",
   "metadata": {},
   "outputs": [
    {
     "name": "stderr",
     "output_type": "stream",
     "text": [
      "WARNING:root:Removing these student ID's, as clearly absent from exam: []\n"
     ]
    }
   ],
   "source": [
    "grader = tc.correction_parser(filename='demo_correction_template.xlsx', \n",
    "                              exam_name='Examen_final_GCHdemo_2021')"
   ]
  },
  {
   "cell_type": "markdown",
   "id": "efb3d562",
   "metadata": {},
   "source": [
    "## Regarder ce qu'on a lu (mêmes tableaux que dans le gabarit)"
   ]
  },
  {
   "cell_type": "code",
   "execution_count": 3,
   "id": "864a9a0d",
   "metadata": {},
   "outputs": [
    {
     "data": {
      "text/html": [
       "<div>\n",
       "<style scoped>\n",
       "    .dataframe tbody tr th:only-of-type {\n",
       "        vertical-align: middle;\n",
       "    }\n",
       "\n",
       "    .dataframe tbody tr th {\n",
       "        vertical-align: top;\n",
       "    }\n",
       "\n",
       "    .dataframe thead th {\n",
       "        text-align: right;\n",
       "    }\n",
       "</style>\n",
       "<table border=\"1\" class=\"dataframe\">\n",
       "  <thead>\n",
       "    <tr style=\"text-align: right;\">\n",
       "      <th></th>\n",
       "      <th></th>\n",
       "      <th>définition</th>\n",
       "      <th>points</th>\n",
       "    </tr>\n",
       "    <tr>\n",
       "      <th></th>\n",
       "      <th>code</th>\n",
       "      <th></th>\n",
       "      <th></th>\n",
       "    </tr>\n",
       "  </thead>\n",
       "  <tbody>\n",
       "    <tr>\n",
       "      <th rowspan=\"3\" valign=\"top\">Q_1</th>\n",
       "      <th>sto</th>\n",
       "      <td>Erreur dans le calcul stoechiométrique du proc...</td>\n",
       "      <td>5.0</td>\n",
       "    </tr>\n",
       "    <tr>\n",
       "      <th>dv</th>\n",
       "      <td>Mauvaise prise en compte de la durée de vie du...</td>\n",
       "      <td>6.0</td>\n",
       "    </tr>\n",
       "    <tr>\n",
       "      <th>dv</th>\n",
       "      <td>NaN</td>\n",
       "      <td>NaN</td>\n",
       "    </tr>\n",
       "    <tr>\n",
       "      <th rowspan=\"3\" valign=\"top\">Q_2</th>\n",
       "      <th>rv</th>\n",
       "      <td>Réponse correcte, mais vague</td>\n",
       "      <td>2.0</td>\n",
       "    </tr>\n",
       "    <tr>\n",
       "      <th>oz</th>\n",
       "      <td>Confond couche d’ozone et gaz à effet de serre!</td>\n",
       "      <td>9.0</td>\n",
       "    </tr>\n",
       "    <tr>\n",
       "      <th>bon</th>\n",
       "      <td>Points bonus pour une  explication particulièr...</td>\n",
       "      <td>-1.0</td>\n",
       "    </tr>\n",
       "  </tbody>\n",
       "</table>\n",
       "</div>"
      ],
      "text/latex": [
       "\\centering\\begin{tabular}{lllr}\n",
       "\\toprule\n",
       "    &     &                                         définition &  points \\\\\n",
       "{} & code &                                                    &         \\\\\n",
       "\\midrule\n",
       "Q\\_1 & sto &  Erreur dans le calcul stoechiométrique du proc... &     5.0 \\\\\n",
       "    & dv &  Mauvaise prise en compte de la durée de vie du... &     6.0 \\\\\n",
       "    & dv &                                                NaN &     NaN \\\\\n",
       "Q\\_2 & rv &                       Réponse correcte, mais vague &     2.0 \\\\\n",
       "    & oz &    Confond couche d’ozone et gaz à effet de serre! &     9.0 \\\\\n",
       "    & bon &  Points bonus pour une  explication particulièr... &    -1.0 \\\\\n",
       "\\bottomrule\n",
       "\\end{tabular}\n"
      ],
      "text/plain": [
       "                                                 définition  points\n",
       "    code                                                           \n",
       "Q_1 sto   Erreur dans le calcul stoechiométrique du proc...     5.0\n",
       "    dv    Mauvaise prise en compte de la durée de vie du...     6.0\n",
       "    dv                                                  NaN     NaN\n",
       "Q_2 rv                         Réponse correcte, mais vague     2.0\n",
       "    oz      Confond couche d’ozone et gaz à effet de serre!     9.0\n",
       "    bon   Points bonus pour une  explication particulièr...    -1.0"
      ]
     },
     "execution_count": 3,
     "metadata": {},
     "output_type": "execute_result"
    }
   ],
   "source": [
    "# Les codes de correction pour chaque erreur / critère\n",
    "grader.raw_codes"
   ]
  },
  {
   "cell_type": "code",
   "execution_count": 4,
   "id": "14f50736",
   "metadata": {},
   "outputs": [
    {
     "data": {
      "text/html": [
       "<div>\n",
       "<style scoped>\n",
       "    .dataframe tbody tr th:only-of-type {\n",
       "        vertical-align: middle;\n",
       "    }\n",
       "\n",
       "    .dataframe tbody tr th {\n",
       "        vertical-align: top;\n",
       "    }\n",
       "\n",
       "    .dataframe thead th {\n",
       "        text-align: right;\n",
       "    }\n",
       "</style>\n",
       "<table border=\"1\" class=\"dataframe\">\n",
       "  <thead>\n",
       "    <tr style=\"text-align: right;\">\n",
       "      <th></th>\n",
       "      <th>définition</th>\n",
       "      <th>pénalités relatives</th>\n",
       "      <th>pénalités_absolues</th>\n",
       "    </tr>\n",
       "    <tr>\n",
       "      <th>code</th>\n",
       "      <th></th>\n",
       "      <th></th>\n",
       "      <th></th>\n",
       "    </tr>\n",
       "  </thead>\n",
       "  <tbody>\n",
       "    <tr>\n",
       "      <th>ek</th>\n",
       "      <td>erreur kalcul, mais le concept est bon</td>\n",
       "      <td>NaN</td>\n",
       "      <td>0.25</td>\n",
       "    </tr>\n",
       "    <tr>\n",
       "      <th>eu</th>\n",
       "      <td>erreur d'unité</td>\n",
       "      <td>0.2</td>\n",
       "      <td>2.00</td>\n",
       "    </tr>\n",
       "    <tr>\n",
       "      <th>rm</th>\n",
       "      <td>réponse manquante (la question n'a pas été faite)</td>\n",
       "      <td>1.0</td>\n",
       "      <td>NaN</td>\n",
       "    </tr>\n",
       "    <tr>\n",
       "      <th>pr</th>\n",
       "      <td>pas de réponse mais la démarche est présente</td>\n",
       "      <td>0.1</td>\n",
       "      <td>NaN</td>\n",
       "    </tr>\n",
       "    <tr>\n",
       "      <th>re</th>\n",
       "      <td>réponse erronnée (perte de tous les points)</td>\n",
       "      <td>1.0</td>\n",
       "      <td>NaN</td>\n",
       "    </tr>\n",
       "    <tr>\n",
       "      <th>ec</th>\n",
       "      <td>erreur conceptuelle diverse</td>\n",
       "      <td>0.2</td>\n",
       "      <td>2.00</td>\n",
       "    </tr>\n",
       "    <tr>\n",
       "      <th>el</th>\n",
       "      <td>erreur de lecture, mais raisonnement et démarc...</td>\n",
       "      <td>NaN</td>\n",
       "      <td>0.25</td>\n",
       "    </tr>\n",
       "  </tbody>\n",
       "</table>\n",
       "</div>"
      ],
      "text/latex": [
       "\\centering\\begin{tabular}{llrr}\n",
       "\\toprule\n",
       "{} &                                         définition &  pénalités relatives &  pénalités\\_absolues \\\\\n",
       "code &                                                    &                      &                     \\\\\n",
       "\\midrule\n",
       "ek   &             erreur kalcul, mais le concept est bon &                  NaN &                0.25 \\\\\n",
       "eu   &                                    erreur d'unité  &                  0.2 &                2.00 \\\\\n",
       "rm   &  réponse manquante (la question n'a pas été faite) &                  1.0 &                 NaN \\\\\n",
       "pr   &       pas de réponse mais la démarche est présente &                  0.1 &                 NaN \\\\\n",
       "re   &        réponse erronnée (perte de tous les points) &                  1.0 &                 NaN \\\\\n",
       "ec   &                        erreur conceptuelle diverse &                  0.2 &                2.00 \\\\\n",
       "el   &  erreur de lecture, mais raisonnement et démarc... &                  NaN &                0.25 \\\\\n",
       "\\bottomrule\n",
       "\\end{tabular}\n"
      ],
      "text/plain": [
       "                                             définition  pénalités relatives  \\\n",
       "code                                                                           \n",
       "ek               erreur kalcul, mais le concept est bon                  NaN   \n",
       "eu                                      erreur d'unité                   0.2   \n",
       "rm    réponse manquante (la question n'a pas été faite)                  1.0   \n",
       "pr         pas de réponse mais la démarche est présente                  0.1   \n",
       "re          réponse erronnée (perte de tous les points)                  1.0   \n",
       "ec                          erreur conceptuelle diverse                  0.2   \n",
       "el    erreur de lecture, mais raisonnement et démarc...                  NaN   \n",
       "\n",
       "      pénalités_absolues  \n",
       "code                      \n",
       "ek                  0.25  \n",
       "eu                  2.00  \n",
       "rm                   NaN  \n",
       "pr                   NaN  \n",
       "re                   NaN  \n",
       "ec                  2.00  \n",
       "el                  0.25  "
      ]
     },
     "execution_count": 4,
     "metadata": {},
     "output_type": "execute_result"
    }
   ],
   "source": [
    "# Les codes de correction pour des erreurs applicables à toutes questions\n",
    "grader.universal_codes"
   ]
  },
  {
   "cell_type": "code",
   "execution_count": 5,
   "id": "e4f86847",
   "metadata": {},
   "outputs": [
    {
     "data": {
      "text/html": [
       "<div>\n",
       "<style scoped>\n",
       "    .dataframe tbody tr th:only-of-type {\n",
       "        vertical-align: middle;\n",
       "    }\n",
       "\n",
       "    .dataframe tbody tr th {\n",
       "        vertical-align: top;\n",
       "    }\n",
       "\n",
       "    .dataframe thead th {\n",
       "        text-align: right;\n",
       "    }\n",
       "</style>\n",
       "<table border=\"1\" class=\"dataframe\">\n",
       "  <thead>\n",
       "    <tr style=\"text-align: right;\">\n",
       "      <th></th>\n",
       "      <th>prénom</th>\n",
       "      <th>nom</th>\n",
       "      <th>courriel</th>\n",
       "      <th>Q_1</th>\n",
       "      <th>Q_2</th>\n",
       "      <th>Q_3</th>\n",
       "    </tr>\n",
       "  </thead>\n",
       "  <tbody>\n",
       "    <tr>\n",
       "      <th>12345</th>\n",
       "      <td>Bill</td>\n",
       "      <td>Joie</td>\n",
       "      <td>joie.bill@gmail.com</td>\n",
       "      <td>sto, dv</td>\n",
       "      <td>oz</td>\n",
       "      <td>ok</td>\n",
       "    </tr>\n",
       "    <tr>\n",
       "      <th>23456</th>\n",
       "      <td>John</td>\n",
       "      <td>Doe</td>\n",
       "      <td>guillaume.majeau-bettez@polymtl.ca</td>\n",
       "      <td>dv</td>\n",
       "      <td>rv, ek, ek</td>\n",
       "      <td>rm</td>\n",
       "    </tr>\n",
       "  </tbody>\n",
       "</table>\n",
       "</div>"
      ],
      "text/latex": [
       "\\centering\\begin{tabular}{lllllll}\n",
       "\\toprule\n",
       "{} & prénom &   nom &                            courriel &      Q\\_1 &         Q\\_2 & Q\\_3 \\\\\n",
       "\\midrule\n",
       "12345 &   Bill &  Joie &                 joie.bill@gmail.com &  sto, dv &          oz &  ok \\\\\n",
       "23456 &   John &   Doe &  guillaume.majeau-bettez@polymtl.ca &       dv &  rv, ek, ek &  rm \\\\\n",
       "\\bottomrule\n",
       "\\end{tabular}\n"
      ],
      "text/plain": [
       "      prénom   nom                            courriel      Q_1         Q_2  \\\n",
       "12345   Bill  Joie                 joie.bill@gmail.com  sto, dv          oz   \n",
       "23456   John   Doe  guillaume.majeau-bettez@polymtl.ca       dv  rv, ek, ek   \n",
       "\n",
       "      Q_3  \n",
       "12345  ok  \n",
       "23456  rm  "
      ]
     },
     "execution_count": 5,
     "metadata": {},
     "output_type": "execute_result"
    }
   ],
   "source": [
    "# Les codes de correction, pour chaque matricule étudiant, à chaque question\n",
    "grader.raw_corr"
   ]
  },
  {
   "cell_type": "markdown",
   "id": "3519834c",
   "metadata": {},
   "source": [
    "## On calcule les notes\n",
    "\n",
    "Cette étape:\n",
    "- Applique les codes de correction universels (universal_codes) à chaque question et ajuste les pondération relatives\n",
    "- Fait un \"pivot table\" (`correction_matrix`) à partir de `raw_corr`.\n",
    "- Harmonise les dimensions et inspecte pour détecter les erreurs typiques\n",
    "- Calcule les notes"
   ]
  },
  {
   "cell_type": "code",
   "execution_count": 6,
   "id": "416e8fc9",
   "metadata": {},
   "outputs": [],
   "source": [
    "# Le moment fatidique...\n",
    "grader.calc_grades()"
   ]
  },
  {
   "cell_type": "markdown",
   "id": "d87ca084",
   "metadata": {},
   "source": [
    "## On regarde les résultats"
   ]
  },
  {
   "cell_type": "code",
   "execution_count": 7,
   "id": "f043ff84",
   "metadata": {},
   "outputs": [
    {
     "data": {
      "text/html": [
       "<div>\n",
       "<style scoped>\n",
       "    .dataframe tbody tr th:only-of-type {\n",
       "        vertical-align: middle;\n",
       "    }\n",
       "\n",
       "    .dataframe tbody tr th {\n",
       "        vertical-align: top;\n",
       "    }\n",
       "\n",
       "    .dataframe thead th {\n",
       "        text-align: right;\n",
       "    }\n",
       "</style>\n",
       "<table border=\"1\" class=\"dataframe\">\n",
       "  <thead>\n",
       "    <tr style=\"text-align: right;\">\n",
       "      <th>questions</th>\n",
       "      <th>Q_1</th>\n",
       "      <th>Q_2</th>\n",
       "      <th>Q_3</th>\n",
       "    </tr>\n",
       "  </thead>\n",
       "  <tbody>\n",
       "    <tr>\n",
       "      <th>12345</th>\n",
       "      <td>9.0</td>\n",
       "      <td>21.0</td>\n",
       "      <td>50.0</td>\n",
       "    </tr>\n",
       "    <tr>\n",
       "      <th>23456</th>\n",
       "      <td>14.0</td>\n",
       "      <td>27.5</td>\n",
       "      <td>0.0</td>\n",
       "    </tr>\n",
       "  </tbody>\n",
       "</table>\n",
       "</div>"
      ],
      "text/latex": [
       "\\centering\\begin{tabular}{lrrr}\n",
       "\\toprule\n",
       "questions &   Q\\_1 &   Q\\_2 &   Q\\_3 \\\\\n",
       "\\midrule\n",
       "12345 &   9.0 &  21.0 &  50.0 \\\\\n",
       "23456 &  14.0 &  27.5 &   0.0 \\\\\n",
       "\\bottomrule\n",
       "\\end{tabular}\n"
      ],
      "text/plain": [
       "questions   Q_1   Q_2   Q_3\n",
       "12345       9.0  21.0  50.0\n",
       "23456      14.0  27.5   0.0"
      ]
     },
     "execution_count": 7,
     "metadata": {},
     "output_type": "execute_result"
    }
   ],
   "source": [
    "# Le pointage pour chaque question\n",
    "grader.grades"
   ]
  },
  {
   "cell_type": "code",
   "execution_count": 8,
   "id": "5d15fe8b",
   "metadata": {},
   "outputs": [
    {
     "data": {
      "text/html": [
       "<div>\n",
       "<style scoped>\n",
       "    .dataframe tbody tr th:only-of-type {\n",
       "        vertical-align: middle;\n",
       "    }\n",
       "\n",
       "    .dataframe tbody tr th {\n",
       "        vertical-align: top;\n",
       "    }\n",
       "\n",
       "    .dataframe thead th {\n",
       "        text-align: right;\n",
       "    }\n",
       "</style>\n",
       "<table border=\"1\" class=\"dataframe\">\n",
       "  <thead>\n",
       "    <tr style=\"text-align: right;\">\n",
       "      <th>questions</th>\n",
       "      <th>Q_1</th>\n",
       "      <th>Q_2</th>\n",
       "      <th>Q_3</th>\n",
       "    </tr>\n",
       "  </thead>\n",
       "  <tbody>\n",
       "    <tr>\n",
       "      <th>12345</th>\n",
       "      <td>45.0</td>\n",
       "      <td>70.000000</td>\n",
       "      <td>100.0</td>\n",
       "    </tr>\n",
       "    <tr>\n",
       "      <th>23456</th>\n",
       "      <td>70.0</td>\n",
       "      <td>91.666667</td>\n",
       "      <td>0.0</td>\n",
       "    </tr>\n",
       "  </tbody>\n",
       "</table>\n",
       "</div>"
      ],
      "text/latex": [
       "\\centering\\begin{tabular}{lrrr}\n",
       "\\toprule\n",
       "questions &   Q\\_1 &        Q\\_2 &    Q\\_3 \\\\\n",
       "\\midrule\n",
       "12345 &  45.0 &  70.000000 &  100.0 \\\\\n",
       "23456 &  70.0 &  91.666667 &    0.0 \\\\\n",
       "\\bottomrule\n",
       "\\end{tabular}\n"
      ],
      "text/plain": [
       "questions   Q_1        Q_2    Q_3\n",
       "12345      45.0  70.000000  100.0\n",
       "23456      70.0  91.666667    0.0"
      ]
     },
     "execution_count": 8,
     "metadata": {},
     "output_type": "execute_result"
    }
   ],
   "source": [
    "# Le score relatif (en pourcentage) de chaque question\n",
    "grader.grades_rel"
   ]
  },
  {
   "cell_type": "code",
   "execution_count": 9,
   "id": "48d9ce2d",
   "metadata": {},
   "outputs": [
    {
     "data": {
      "text/html": [
       "<div>\n",
       "<style scoped>\n",
       "    .dataframe tbody tr th:only-of-type {\n",
       "        vertical-align: middle;\n",
       "    }\n",
       "\n",
       "    .dataframe tbody tr th {\n",
       "        vertical-align: top;\n",
       "    }\n",
       "\n",
       "    .dataframe thead th {\n",
       "        text-align: right;\n",
       "    }\n",
       "</style>\n",
       "<table border=\"1\" class=\"dataframe\">\n",
       "  <thead>\n",
       "    <tr style=\"text-align: right;\">\n",
       "      <th></th>\n",
       "      <th>prénom</th>\n",
       "      <th>nom</th>\n",
       "      <th>courriel</th>\n",
       "      <th>points</th>\n",
       "    </tr>\n",
       "  </thead>\n",
       "  <tbody>\n",
       "    <tr>\n",
       "      <th>12345</th>\n",
       "      <td>Bill</td>\n",
       "      <td>Joie</td>\n",
       "      <td>joie.bill@gmail.com</td>\n",
       "      <td>80.0</td>\n",
       "    </tr>\n",
       "    <tr>\n",
       "      <th>23456</th>\n",
       "      <td>John</td>\n",
       "      <td>Doe</td>\n",
       "      <td>guillaume.majeau-bettez@polymtl.ca</td>\n",
       "      <td>41.5</td>\n",
       "    </tr>\n",
       "  </tbody>\n",
       "</table>\n",
       "</div>"
      ],
      "text/latex": [
       "\\centering\\begin{tabular}{llllr}\n",
       "\\toprule\n",
       "{} & prénom &   nom &                            courriel &  points \\\\\n",
       "\\midrule\n",
       "12345 &   Bill &  Joie &                 joie.bill@gmail.com &    80.0 \\\\\n",
       "23456 &   John &   Doe &  guillaume.majeau-bettez@polymtl.ca &    41.5 \\\\\n",
       "\\bottomrule\n",
       "\\end{tabular}\n"
      ],
      "text/plain": [
       "      prénom   nom                            courriel  points\n",
       "12345   Bill  Joie                 joie.bill@gmail.com    80.0\n",
       "23456   John   Doe  guillaume.majeau-bettez@polymtl.ca    41.5"
      ]
     },
     "execution_count": 9,
     "metadata": {},
     "output_type": "execute_result"
    }
   ],
   "source": [
    "# La note totale de chaque étudiant\n",
    "grader.grades_total"
   ]
  },
  {
   "cell_type": "markdown",
   "id": "647bee0d",
   "metadata": {},
   "source": [
    "## Obtenir une vue d'ensemble pour la classe\n",
    "\n",
    "L'histogramme a l'air un peu fou avec seulement deux étudiants, mais bon..."
   ]
  },
  {
   "cell_type": "code",
   "execution_count": 10,
   "id": "8dd13d81",
   "metadata": {},
   "outputs": [
    {
     "name": "stdout",
     "output_type": "stream",
     "text": [
      "moyenne: 60.8 points\n",
      "déviation standard: 27.2 points\n",
      "valeur médiane: 60.8 points\n",
      "Nombre total d'étudiants: 2\n",
      "Nombre d'échecs: 1\n"
     ]
    },
    {
     "data": {
      "image/png": "[encoded data removed]",
      "text/plain": [
       "<Figure size 432x288 with 1 Axes>"
      ]
     },
     "metadata": {
      "needs_background": "light"
     },
     "output_type": "display_data"
    }
   ],
   "source": [
    "# Obtenir une vue d'ensemble pour la note totale\n",
    "_ = grader.give_overview(fail=55)"
   ]
  },
  {
   "cell_type": "code",
   "execution_count": 11,
   "id": "33316e9e",
   "metadata": {},
   "outputs": [
    {
     "name": "stdout",
     "output_type": "stream",
     "text": [
      "Q_1 : Calcul d’inventaire\n",
      "moyenne: 57.5 points\n",
      "déviation standard: 17.7 points\n",
      "valeur médiane: 57.5 points\n",
      "Nombre total d'étudiants: 2\n",
      "Nombre d'échecs: 1\n"
     ]
    },
    {
     "data": {
      "image/png": "[encoded data removed]",
      "text/plain": [
       "<Figure size 432x288 with 1 Axes>"
      ]
     },
     "metadata": {
      "needs_background": "light"
     },
     "output_type": "display_data"
    }
   ],
   "source": [
    "# Obtenir une vue d'ensemble pour la question 1, et sauver l'histogramme en pdf et svg\n",
    "_ = grader.give_overview(q='Q_1', filename='/tmp/histogram_Q1')"
   ]
  },
  {
   "cell_type": "code",
   "execution_count": 12,
   "id": "e6c05d3f",
   "metadata": {},
   "outputs": [
    {
     "name": "stdout",
     "output_type": "stream",
     "text": [
      "/tmp/histogram_Q1.pdf  \u001b[0m\u001b[01;35m/tmp/histogram_Q1.svg\u001b[0m\r\n"
     ]
    }
   ],
   "source": [
    "%ls /tmp/histogram*"
   ]
  },
  {
   "cell_type": "markdown",
   "id": "0cbb3bf4",
   "metadata": {},
   "source": [
    "## Archiver les résultats\n",
    "\n",
    "On sauve le détail des correction dans fichier mis à jour (`Examen_final_GCHdemo_2021.xlsx`) et un permanent avec horodatage."
   ]
  },
  {
   "cell_type": "code",
   "execution_count": 13,
   "id": "e57eec22",
   "metadata": {},
   "outputs": [],
   "source": [
    "grader.archive_grades()"
   ]
  },
  {
   "cell_type": "code",
   "execution_count": 14,
   "id": "722e0dc2",
   "metadata": {},
   "outputs": [
    {
     "name": "stdout",
     "output_type": "stream",
     "text": [
      "demo_correction_template.xlsx\r\n",
      "Examen_final_GCHdemo_2021_2021-12-27T23:13:40.027008.xlsx\r\n",
      "Examen_final_GCHdemo_2021_2021-12-27T23:21:28.498114.xlsx\r\n",
      "Examen_final_GCHdemo_2021_2021-12-28T00:05:15.455534.xlsx\r\n",
      "Examen_final_GCHdemo_2021_2022-01-18T16:48:44.915312.xlsx\r\n",
      "Examen_final_GCHdemo_2021_2022-03-29T14:20:39.444142.xlsx\r\n",
      "Examen_final_GCHdemo_2021_2022-03-29T14:21:32.560557.xlsx\r\n",
      "Examen_final_GCHdemo_2021_2022-03-29T14:27:08.987620.xlsx\r\n",
      "Examen_final_GCHdemo_2021_2022-03-29T14:33:51.602655.xlsx\r\n",
      "Examen_final_GCHdemo_2021_2022-03-29T14:36:34.416928.xlsx\r\n",
      "Examen_final_GCHdemo_2021_2022-03-29T14:40:50.810905.xlsx\r\n",
      "Examen_final_GCHdemo_2021_2022-12-29T20:53:07.857009.xlsx\r\n",
      "Examen_final_GCHdemo_2021_2022-12-29T21:03:46.866818.xlsx\r\n",
      "Examen_final_GCHdemo_2021_2022-12-29T23:52:27.795969.xlsx\r\n",
      "Examen_final_GCHdemo_2021.xlsx\r\n"
     ]
    }
   ],
   "source": [
    "%ls *xlsx"
   ]
  },
  {
   "cell_type": "markdown",
   "id": "e0e0ef56",
   "metadata": {},
   "source": [
    "## Étape manuelle 2: rédiger le message global accompagnant le détail des notes"
   ]
  },
  {
   "cell_type": "code",
   "execution_count": 15,
   "id": "7d0b9b73",
   "metadata": {},
   "outputs": [],
   "source": [
    "grader.message['foreword'] = \"La correction de l'examen fictif est enfin terminée. Le corrigé détaillé est disponible sur Moodle. \\\n",
    "Je vous encourage à bien réviser vos erreurs, car cet apprentissage est crucial en préparation à l'examen final.\"\n",
    "\n",
    "grader.message['closing'] = \"\"\"\n",
    "\n",
    "Bon courage pour la suite.\n",
    "\n",
    "cordialement,\n",
    "\n",
    "Guillaume\n",
    "\n",
    "\"\"\""
   ]
  },
  {
   "cell_type": "markdown",
   "id": "286a2d97",
   "metadata": {},
   "source": [
    "## Inspecter le courriel pour quelques étudiants"
   ]
  },
  {
   "cell_type": "code",
   "execution_count": 16,
   "id": "dba659dc",
   "metadata": {},
   "outputs": [
    {
     "data": {
      "text/html": [
       "        <html>\n",
       "          <body>\n",
       "          <p> Bonjour John Doe, <br><br>\n",
       "La correction de l'examen fictif est enfin terminée. Le corrigé détaillé est disponible sur Moodle. Je vous encourage à bien réviser vos erreurs, car cet apprentissage est crucial en préparation à l'examen final.<br><br>La moyenne du groupe est de 60.8 points, et sa note médiane est de 60.8 points. Vous avez obtenu une note de 41.5 points. <br><hr><br><br>Voici le détail de vos points:<br><br>    Q_1 : Calcul d’inventaire<br>        14.0 points sur 20<br>    <br>    Q_2 : Compréhension de l’effet de serre<br>        27.5 points sur 30<br>    <br>    Q_3 : Autre question<br>        0.0 points sur 50<br>    <br><hr><br><br>Et voici le détail des points perdus (toute pénalité négative correspond à un point 'gagné' ou 'bonus'):<br><br><table border=\"1\" class=\"dataframe\">\n",
       "  <thead>\n",
       "    <tr style=\"text-align: right;\">\n",
       "      <th></th>\n",
       "      <th></th>\n",
       "      <th>Points par erreur</th>\n",
       "      <th>Fréquence</th>\n",
       "      <th>Erreur</th>\n",
       "    </tr>\n",
       "  </thead>\n",
       "  <tbody>\n",
       "    <tr>\n",
       "      <th>Q_1</th>\n",
       "      <th>dv</th>\n",
       "      <td>6.00</td>\n",
       "      <td>1.0</td>\n",
       "      <td>Mauvaise prise en compte de la durée de vie du produit dans le calcul de cycle de vie</td>\n",
       "    </tr>\n",
       "    <tr>\n",
       "      <th rowspan=\"2\" valign=\"top\">Q_2</th>\n",
       "      <th>ek</th>\n",
       "      <td>0.25</td>\n",
       "      <td>2.0</td>\n",
       "      <td>erreur kalcul, mais le concept est bon</td>\n",
       "    </tr>\n",
       "    <tr>\n",
       "      <th>rv</th>\n",
       "      <td>2.00</td>\n",
       "      <td>1.0</td>\n",
       "      <td>Réponse correcte, mais vague</td>\n",
       "    </tr>\n",
       "    <tr>\n",
       "      <th>Q_3</th>\n",
       "      <th>rm</th>\n",
       "      <td>50.00</td>\n",
       "      <td>1.0</td>\n",
       "      <td>réponse manquante (la question n'a pas été faite)</td>\n",
       "    </tr>\n",
       "  </tbody>\n",
       "</table><br><br><hr> <br><br>Bon courage pour la suite.<br><br>cordialement,<br><br>Guillaume<br><br>    </p>\n",
       "                  </body>\n",
       "              </html>\n",
       "              "
      ],
      "text/plain": [
       "<IPython.core.display.HTML object>"
      ]
     },
     "execution_count": 16,
     "metadata": {},
     "output_type": "execute_result"
    }
   ],
   "source": [
    "HTML(grader.compilation_message(student_id=23456))"
   ]
  },
  {
   "cell_type": "markdown",
   "id": "b6839162",
   "metadata": {},
   "source": [
    "## Envoyer les courriels inviduels"
   ]
  },
  {
   "cell_type": "code",
   "execution_count": 17,
   "id": "fcaf2f52",
   "metadata": {},
   "outputs": [
    {
     "name": "stdout",
     "output_type": "stream",
     "text": [
      "Ready to send emails? [y/n]y\n",
      "Insert your server login ID (e.g., p-matricule): ········\n",
      "Insert your password for the email server: ········\n",
      "Message sent to Bill Joie\n",
      "Message sent to John Doe\n",
      "Done sending messages!\n"
     ]
    }
   ],
   "source": [
    "grader.send_results(sender='Guillaume Majeau-Bettez <guillaume.majeau-bettez@polymtl.ca>',\n",
    "                    server='smtp.polymtl.ca',\n",
    "                    bcc_recipients=['joie.bill@gmail.com', 'guillaume.majeau-bettez@polymtl.ca'])"
   ]
  },
  {
   "cell_type": "code",
   "execution_count": null,
   "id": "8d69bffb",
   "metadata": {},
   "outputs": [],
   "source": []
  }
 ],
 "metadata": {
  "kernelspec": {
   "display_name": "Python 3 (ipykernel)",
   "language": "python",
   "name": "python3"
  },
  "language_info": {
   "codemirror_mode": {
    "name": "ipython",
    "version": 3
   },
   "file_extension": ".py",
   "mimetype": "text/x-python",
   "name": "python",
   "nbconvert_exporter": "python",
   "pygments_lexer": "ipython3",
   "version": "3.7.10"
  },
  "vscode": {
   "interpreter": {
    "hash": "e0f48c8e432fbe41439af2f3425e2757429f6552f08671b58b63738efb6b6f3c"
   }
  }
 },
 "nbformat": 4,
 "nbformat_minor": 5
}
